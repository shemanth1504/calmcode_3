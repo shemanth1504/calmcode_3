{
  "nbformat": 4,
  "nbformat_minor": 0,
  "metadata": {
    "colab": {
      "provenance": []
    },
    "kernelspec": {
      "name": "python3",
      "display_name": "Python 3"
    },
    "language_info": {
      "name": "python"
    }
  },
  "cells": [
    {
      "cell_type": "code",
      "execution_count": 8,
      "metadata": {
        "colab": {
          "base_uri": "https://localhost:8080/"
        },
        "id": "RJQTLKlKPlpJ",
        "outputId": "6e898a27-a47a-45b7-96ad-37b2c766246d"
      },
      "outputs": [
        {
          "output_type": "stream",
          "name": "stdout",
          "text": [
            "16\n",
            "16\n",
            "<class 'function'>\n"
          ]
        }
      ],
      "source": [
        "#Introduction to Lambda\n",
        "def square(x):\n",
        "    return x ** 2\n",
        "\n",
        "square_lambda = lambda x: x ** 2\n",
        "\n",
        "print(square(4))  # Output: 16\n",
        "print(square_lambda(4))  # Output: 16\n",
        "print(type(square_lambda))  # Output: <class 'function'>\n"
      ]
    },
    {
      "cell_type": "markdown",
      "source": [
        " A function square that calculates the square of a given number x, and then defines a lambda function square_lambda that does the same. The code then calls both the square function and the square_lambda lambda function with the input 4 and prints the results. Finally, it checks and prints the type of the square_lambda lambda function, which is <class 'function'>."
      ],
      "metadata": {
        "id": "I-zEN5_RSG_s"
      }
    },
    {
      "cell_type": "code",
      "source": [
        "# Functions\n",
        "def square(x):\n",
        "    return x ** 2\n",
        "\n",
        "def subtract_two(x):\n",
        "    return x - 2\n",
        "\n",
        "function_list = [square, subtract_two]\n",
        "\n",
        "number = 5\n",
        "for func in function_list:\n",
        "    number = func(number)\n",
        "    print(number)\n"
      ],
      "metadata": {
        "colab": {
          "base_uri": "https://localhost:8080/"
        },
        "id": "rpslwufuShaM",
        "outputId": "3ab213c2-9214-4c12-d2cc-7e982f6a5dba"
      },
      "execution_count": 9,
      "outputs": [
        {
          "output_type": "stream",
          "name": "stdout",
          "text": [
            "25\n",
            "23\n"
          ]
        }
      ]
    },
    {
      "cell_type": "markdown",
      "source": [
        "This code defines two functions square and subtract_two, creates a list function_list containing these two functions, initializes a variable number with the value 5, and then iterates over the functions in function_list, applying each function to the number variable and updating its value. Finally, it prints the updated number value after each function is applied."
      ],
      "metadata": {
        "id": "ys7l4aNUTlMy"
      }
    },
    {
      "cell_type": "code",
      "source": [
        "# Nameless\n",
        "number = 1\n",
        "# List of lambda functions performing different operations\n",
        "lambda_list = [\n",
        "    lambda x: x - 1,\n",
        "    lambda x: x * 2,\n",
        "    lambda x: x + 2\n",
        "]\n",
        "\n",
        "for func in lambda_list:\n",
        "    number = func(number)\n",
        "    print(number)\n"
      ],
      "metadata": {
        "colab": {
          "base_uri": "https://localhost:8080/"
        },
        "id": "nVJLXgL3TsdJ",
        "outputId": "34203215-849d-4df6-dd47-f02d921cb808"
      },
      "execution_count": 10,
      "outputs": [
        {
          "output_type": "stream",
          "name": "stdout",
          "text": [
            "0\n",
            "0\n",
            "2\n"
          ]
        }
      ]
    },
    {
      "cell_type": "markdown",
      "source": [
        "This code defines two functions square and subtract_two, creates a list function_list containing these two functions, initializes a variable number with the value 5, and then iterates over the functions in function_list, applying each function to the number variable and updating its value. Finally, it prints the updated number value after each function is applied."
      ],
      "metadata": {
        "id": "C3RWw4njVac_"
      }
    },
    {
      "cell_type": "code",
      "source": [
        "from functools import reduce\n",
        "\n",
        "numbers = [1, 2, 3, 4, 5]\n",
        "sum_result = reduce(lambda x, y: x + y, numbers)\n",
        "print(\"Sum:\", sum_result)\n",
        "product_result = reduce(lambda x, y: x * y, numbers)\n",
        "print(\"Product:\", product_result)\n"
      ],
      "metadata": {
        "colab": {
          "base_uri": "https://localhost:8080/"
        },
        "id": "BNMeYC1wVk9E",
        "outputId": "8b1fd3ed-2a49-4f18-8b27-e6979908bcbb"
      },
      "execution_count": 11,
      "outputs": [
        {
          "output_type": "stream",
          "name": "stdout",
          "text": [
            "Sum: 15\n",
            "Product: 120\n"
          ]
        }
      ]
    },
    {
      "cell_type": "markdown",
      "source": [
        "This code uses the reduce function from the functools module to compute the sum and product of the numbers in the list [1, 2, 3, 4, 5]. The reduce function applies a function of two arguments cumulatively to the items of a sequence, reducing it to a single value.\n",
        "\n",
        "The first reduce call computes the sum of the numbers by adding each element in the list to the accumulator. The second reduce call computes the product of the numbers by multiplying each element in the list to the accumulator. The code then prints the sum and product of the numbers."
      ],
      "metadata": {
        "id": "mh8D6VBRV1hp"
      }
    },
    {
      "cell_type": "code",
      "source": [
        "import numpy as np\n",
        "import pandas as pd\n",
        "df = pd.DataFrame(np.random.normal(0, 1, (10, 2)))\n",
        "df.columns = ['height', 'weight']\n",
        "tall_people = df.loc[lambda d: d['height'] > 0]\n",
        "print(\"DataFrame with tall people:\")\n",
        "print(tall_people)\n"
      ],
      "metadata": {
        "colab": {
          "base_uri": "https://localhost:8080/"
        },
        "id": "Gbgxo3t0XHKe",
        "outputId": "f5c7b746-0003-4438-d19b-6314011885ba"
      },
      "execution_count": 12,
      "outputs": [
        {
          "output_type": "stream",
          "name": "stdout",
          "text": [
            "DataFrame with tall people:\n",
            "     height    weight\n",
            "1  0.474614  0.339806\n",
            "7  1.488412 -0.661579\n",
            "8  1.363281 -0.314838\n"
          ]
        }
      ]
    },
    {
      "cell_type": "markdown",
      "source": [
        "This code generates a DataFrame with random numbers, assigns names to the columns as 'height' and 'weight', filters the rows to only include rows where the 'height' column is greater than 0, and then prints out the resulting DataFrame containing only the rows with tall people (height > 0)."
      ],
      "metadata": {
        "id": "odu4PuI7XJzP"
      }
    }
  ]
}